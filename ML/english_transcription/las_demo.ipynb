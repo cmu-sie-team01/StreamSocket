{
 "cells": [
  {
   "cell_type": "markdown",
   "metadata": {},
   "source": [
    "# LAS Demo\n",
    "\n",
    "This is a demonstration of how `run_exp.py` works and the result of example config file.\n",
    "May NOT be executable due to modification of model code in latest version.\n",
    "\n",
    "## Notes :\n",
    "\n",
    "    1. The goal is simply to reconstructed LAS and see if it works on TIMIT, all paremeters are NOT fine tuned.\n",
    "\n",
    "    2. I run the experiment once with unassigned random seed and get the result.\n",
    "    \n",
    "    3. Run with smaller batch may help stablize testing performance. (but slowing down training process)\n",
    "    \n",
    "    4. The model trained on example config can be find in `checkpoint/`\n",
    "    \n",
    "\n",
    "\n",
    "## Package & Config setting"
   ]
  },
  {
   "cell_type": "code",
   "execution_count": 1,
   "metadata": {},
   "outputs": [],
   "source": [
    "import yaml\n",
    "from util.timit_dataset import load_dataset,create_dataloader\n",
    "from util.functions import log_parser,batch_iterator, collapse_phn\n",
    "from model.las_model import Listener,Speller\n",
    "import numpy as np\n",
    "from torch.autograd import Variable\n",
    "import torch\n",
    "import time\n",
    "import matplotlib.pyplot as plt\n",
    "%matplotlib inline\n",
    "\n",
    "# Load example config file for experiment\n",
    "config_path = 'config/las_example_config.yaml'\n",
    "conf = yaml.full_load(open(config_path,'r'))\n",
    "\n",
    "# Parameters loading\n",
    "#num_epochs = conf['training_parameter']['num_epochs']\n",
    "training_msg = 'epoch_{:2d}_step_{:3d}_TrLoss_{:.4f}_TrWER_{:.2f}'\n",
    "epoch_end_msg = 'epoch_{:2d}_TrLoss_{:.4f}_TrWER_{:.2f}_ValLoss_{:.4f}_ValWER_{:.2f}_time_{:.2f}'\n",
    "listener_model_path = conf['meta_variable']['checkpoint_dir']+conf['meta_variable']['experiment_name']+'.listener'\n",
    "speller_model_path = conf['meta_variable']['checkpoint_dir']+conf['meta_variable']['experiment_name']+'.speller'\n",
    "verbose_step = conf['training_parameter']['verbose_step']\n",
    "tf_rate_upperbound = conf['training_parameter']['tf_rate_upperbound']\n",
    "tf_rate_lowerbound = conf['training_parameter']['tf_rate_lowerbound']\n"
   ]
  },
  {
   "cell_type": "markdown",
   "metadata": {},
   "source": [
    "## Prepare Dataset "
   ]
  },
  {
   "cell_type": "code",
   "execution_count": 2,
   "metadata": {},
   "outputs": [],
   "source": [
    "# Load preprocessed TIMIT Dataset\n",
    "# X : Padding to shape [num of sample, max_timestep, feature_dim]\n",
    "# Y : Squeeze repeated label and apply one-hot encoding (preserve 0 for <sos> and 1 for <eos>)\n",
    "X_train, y_train, X_val, y_val, X_test, y_test = load_dataset(**conf['meta_variable'])\n",
    "train_set = create_dataloader(X_train, y_train, **conf['model_parameter'], **conf['training_parameter'], shuffle=True)\n",
    "valid_set = create_dataloader(X_val, y_val, **conf['model_parameter'], **conf['training_parameter'], shuffle=False)\n",
    "test_set = create_dataloader(X_test, y_test, **conf['model_parameter'], **conf['training_parameter'], shuffle=False)"
   ]
  },
  {
   "cell_type": "markdown",
   "metadata": {},
   "source": [
    "## Construct Model"
   ]
  },
  {
   "cell_type": "code",
   "execution_count": 3,
   "metadata": {},
   "outputs": [],
   "source": [
    "listener = Listener(**conf['model_parameter'])\n",
    "speller = Speller(**conf['model_parameter'])\n",
    "optimizer = torch.optim.Adam([{'params':listener.parameters()}, {'params':speller.parameters()}], \n",
    "                              lr=conf['training_parameter']['learning_rate'])"
   ]
  },
  {
   "cell_type": "markdown",
   "metadata": {},
   "source": [
    "## Training Progress"
   ]
  },
  {
   "cell_type": "code",
   "execution_count": null,
   "metadata": {},
   "outputs": [],
   "source": [
    "best_ler = 1.0\n",
    "traing_log = open(conf['meta_variable']['training_log_dir']+conf['meta_variable']['experiment_name']+'.log','w')\n",
    "\n",
    "for epoch in range(num_epochs):\n",
    "    epoch_head = time.time()\n",
    "    tr_loss = 0.0\n",
    "    tr_ler = []\n",
    "    val_loss = 0.0\n",
    "    val_ler = []\n",
    "\n",
    "    # Teacher forcing rate linearly decay\n",
    "    tf_rate = tf_rate_upperbound - (tf_rate_upperbound-tf_rate_lowerbound)*(epoch/num_epochs)\n",
    "    \n",
    "    # Training\n",
    "    for batch_index,(batch_data,batch_label) in enumerate(train_set):\n",
    "        batch_loss, batch_ler = batch_iterator(batch_data, batch_label, listener, speller, optimizer, \n",
    "                                               tf_rate, is_training=True, **conf['model_parameter'])\n",
    "        tr_loss += batch_loss\n",
    "        tr_ler.extend(batch_ler)\n",
    "        if (batch_index+1) % verbose_step == 0:\n",
    "            print(training_msg.format(epoch+1,batch_index+1,tr_loss[0]/(batch_index+1),sum(tr_ler)/len(tr_ler)),end='\\r',flush=True)\n",
    "    training_time = float(time.time()-epoch_head)\n",
    "    \n",
    "    # Validation\n",
    "    for _,(batch_data,batch_label) in enumerate(valid_set):\n",
    "        batch_loss, batch_ler = batch_iterator(batch_data, batch_label, listener, speller, optimizer, \n",
    "                                               tf_rate, is_training=False, **conf['model_parameter'])\n",
    "        val_loss += batch_loss\n",
    "        val_ler.extend(batch_ler)\n",
    "\n",
    "    # Logger\n",
    "    print(epoch_end_msg.format(epoch+1,tr_loss[0]/(batch_index+1),sum(tr_ler)/len(tr_ler),\n",
    "                               val_loss[0]/len(valid_set),sum(val_ler)/len(val_ler),training_time),flush=True)\n",
    "    print(epoch_end_msg.format(epoch+1,tr_loss[0]/(batch_index+1),sum(tr_ler)/len(tr_ler),\n",
    "                               val_loss[0]/len(valid_set),sum(val_ler)/len(val_ler),training_time),flush=True,file=traing_log)\n",
    "\n",
    "    # Checkpoint\n",
    "    if best_ler >= sum(val_ler)/len(val_ler):\n",
    "        best_ler = sum(val_ler)/len(val_ler)\n",
    "        torch.save(listener, listener_model_path)\n",
    "        torch.save(speller, speller_model_path)\n",
    "\n"
   ]
  },
  {
   "cell_type": "markdown",
   "metadata": {},
   "source": [
    "# Result Visualization\n",
    "\n",
    "## Learning Curve & Performance\n"
   ]
  },
  {
   "cell_type": "code",
   "execution_count": 1,
   "metadata": {},
   "outputs": [],
   "source": [
    "import matplotlib.pyplot as plt\n",
    "%matplotlib inline\n",
    "from util.functions import log_parser,batch_iterator, collapse_phn"
   ]
  },
  {
   "cell_type": "code",
   "execution_count": null,
   "metadata": {},
   "outputs": [],
   "source": [
    "fig, axs = plt.subplots(1,2,figsize=(16,5))\n",
    "tr_loss, tt_loss, tr_ler, tt_ler = log_parser('log/las_example.log')\n",
    "\n",
    "axs[0].plot(tr_loss,label='Training');axs[0].plot(tt_loss,label='Validation');\n",
    "axs[0].legend();axs[0].set_xlabel('training epochs');axs[0].set_ylabel('Loss');\n",
    "axs[0].set_title('Learning Curve of LAS',size=15);axs[0].grid(True);\n",
    "axs[1].plot(tr_ler,label='Training');axs[1].plot(tt_ler,label='Validation');axs[1].grid(True);\n",
    "axs[1].legend();axs[1].set_xlabel('training epochs');axs[1].set_ylabel('Phoneme Error Rate');\n",
    "axs[1].set_ylim(0,1)\n",
    "axs[1].set_title('Performance of LAS',size=15)\n",
    "plt.savefig('log/result.jpg')"
   ]
  },
  {
   "cell_type": "markdown",
   "metadata": {},
   "source": [
    "## Attention Visualization & Recognition Result"
   ]
  },
  {
   "cell_type": "code",
   "execution_count": 10,
   "metadata": {},
   "outputs": [
    {
     "ename": "AttributeError",
     "evalue": "'list' object has no attribute 'cpu'",
     "output_type": "error",
     "traceback": [
      "\u001b[1;31m---------------------------------------------------------------------------\u001b[0m",
      "\u001b[1;31mAttributeError\u001b[0m                            Traceback (most recent call last)",
      "Input \u001b[1;32mIn [10]\u001b[0m, in \u001b[0;36m<module>\u001b[1;34m\u001b[0m\n\u001b[0;32m     19\u001b[0m ground_truth \u001b[38;5;241m=\u001b[39m np\u001b[38;5;241m.\u001b[39margmax(true_phn\u001b[38;5;241m.\u001b[39mnumpy())\n\u001b[0;32m     20\u001b[0m pred\u001b[38;5;241m.\u001b[39mappend(np\u001b[38;5;241m.\u001b[39margmax(pred_phn\u001b[38;5;241m.\u001b[39mcpu()\u001b[38;5;241m.\u001b[39mdata\u001b[38;5;241m.\u001b[39mnumpy()))\n\u001b[1;32m---> 21\u001b[0m att_map\u001b[38;5;241m.\u001b[39mappend(\u001b[43matt_score\u001b[49m\u001b[38;5;241;43m.\u001b[39;49m\u001b[43mcpu\u001b[49m()\u001b[38;5;241m.\u001b[39mdata\u001b[38;5;241m.\u001b[39mnumpy()[\u001b[38;5;241m0\u001b[39m,:encoded_feature_length])\n\u001b[0;32m     22\u001b[0m truth\u001b[38;5;241m.\u001b[39mappend(ground_truth)\n\u001b[0;32m     23\u001b[0m \u001b[38;5;28;01mif\u001b[39;00m ground_truth \u001b[38;5;241m==\u001b[39m \u001b[38;5;241m1\u001b[39m:\n",
      "\u001b[1;31mAttributeError\u001b[0m: 'list' object has no attribute 'cpu'"
     ]
    }
   ],
   "source": [
    "target = 0\n",
    "\n",
    "listener = torch.load(listener_model_path)\n",
    "speller = torch.load(speller_model_path)\n",
    "for batch_index,(batch_data,batch_label) in enumerate(test_set):\n",
    "    test_sample = batch_data[target:target+1]\n",
    "    test_label = batch_label[target]\n",
    "    break\n",
    "feature = listener(Variable(test_sample.float()).cuda())\n",
    "pred_seq, attention_score = speller(feature)\n",
    "\n",
    "encoded_feature_length = int(sum(sum(list(np.sum(test_sample.numpy(),axis=-1)!=0)))/8)\n",
    "\n",
    "pred = []\n",
    "att_map = []\n",
    "truth = []\n",
    "\n",
    "for pred_phn,att_score,true_phn in zip(pred_seq, attention_score,test_label):\n",
    "    ground_truth = np.argmax(true_phn.numpy())\n",
    "    pred.append(np.argmax(pred_phn.cpu().data.numpy()))\n",
    "    att_map.append(att_score.cpu().data.numpy()[0,:encoded_feature_length])\n",
    "    truth.append(ground_truth)\n",
    "    if ground_truth == 1:\n",
    "        break\n",
    "    \n",
    "for idx,p in enumerate(pred):\n",
    "    if p == 1:\n",
    "        break\n",
    "att_map = np.array(att_map)  \n",
    "pred = collapse_phn(pred[:idx],return_phn=True,drop_q=False)\n",
    "pred.extend(['<eos>' for i in range(len(truth)-len(pred))])\n",
    "truth = collapse_phn(truth[:-1],return_phn=True,drop_q=False)\n",
    "truth.append('<eos>')"
   ]
  },
  {
   "cell_type": "code",
   "execution_count": 5,
   "metadata": {},
   "outputs": [
    {
     "data": {
      "image/png": "[encoded data removed]",
      "text/plain": [
       "<matplotlib.figure.Figure at 0x7f53a707a320>"
      ]
     },
     "metadata": {},
     "output_type": "display_data"
    }
   ],
   "source": [
    "fig,ax = plt.subplots(1,figsize=(15,13))\n",
    "ax2 = ax.twinx()\n",
    "plt.title('Attention Score During Decoding',size=30)\n",
    "ax.set_xlabel('(Encoded) Input Sequence',size=20)\n",
    "ax2.set_xlabel('(Encoded) Input Sequence',size=20)\n",
    "\n",
    "ax.imshow(att_map, cmap='hot')\n",
    "ax2.imshow(att_map, cmap='hot')\n",
    "\n",
    "ax.set_yticks(range(len(truth)))\n",
    "ax.set_yticklabels(pred,size=15)\n",
    "ax.set_ylabel('Decoding Step',size=20)\n",
    "\n",
    "ax2.set_yticks(range(len(truth)))\n",
    "ax2.set_yticklabels(truth,size=15)\n",
    "ax2.set_ylabel('Ground Truth',size=20)\n",
    "\n",
    "plt.savefig('log/attention.jpg')"
   ]
  },
  {
   "cell_type": "markdown",
   "metadata": {},
   "source": [
    "# Testing Performance"
   ]
  },
  {
   "cell_type": "code",
   "execution_count": 6,
   "metadata": {},
   "outputs": [
    {
     "name": "stderr",
     "output_type": "stream",
     "text": [
      "/home/kevin1kevin1k/Listen-Attend-and-Spell-Pytorch/model/las_model.py:35: UserWarning: RNN module weights are not part of single contiguous chunk of memory. This means they need to be compacted at every call, possibly greately increasing memory usage. To compact weights again call flatten_parameters().\n",
      "  output,hidden = self.BLSTM(input_x)\n",
      "/home/kevin1kevin1k/Listen-Attend-and-Spell-Pytorch/model/las_model.py:78: UserWarning: RNN module weights are not part of single contiguous chunk of memory. This means they need to be compacted at every call, possibly greately increasing memory usage. To compact weights again call flatten_parameters().\n",
      "  rnn_output, hidden_state = self.rnn_layer(input_word,last_hidden_state)\n"
     ]
    },
    {
     "name": "stdout",
     "output_type": "stream",
     "text": [
      "Testing Phoneme Error Rate 0.34177474215145387\n"
     ]
    }
   ],
   "source": [
    "from util.functions import LetterErrorRate\n",
    "\n",
    "test_ler = []\n",
    "for batch_index,(batch_data,batch_label) in enumerate(test_set):\n",
    "    feature = listener(Variable(batch_data.float()).cuda())\n",
    "    pred_seq, _ = speller(feature)\n",
    "    \n",
    "    batch_ler = LetterErrorRate(np.argmax(np.array([p.data.cpu().numpy() for p in pred_seq]).transpose(1,0,2),axis=-1),\n",
    "                                np.argmax(batch_label.numpy(),axis=-1))\n",
    "    test_ler.extend(batch_ler)\n",
    "\n",
    "print('Testing Phoneme Error Rate',sum(test_ler)/len(test_ler))\n",
    "    "
   ]
  }
 ],
 "metadata": {
  "kernelspec": {
   "display_name": "Python 3 (ipykernel)",
   "language": "python",
   "name": "python3"
  },
  "language_info": {
   "codemirror_mode": {
    "name": "ipython",
    "version": 3
   },
   "file_extension": ".py",
   "mimetype": "text/x-python",
   "name": "python",
   "nbconvert_exporter": "python",
   "pygments_lexer": "ipython3",
   "version": "3.9.7"
  }
 },
 "nbformat": 4,
 "nbformat_minor": 2
}
